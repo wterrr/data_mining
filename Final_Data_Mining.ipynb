{
  "cells": [
    {
      "cell_type": "markdown",
      "metadata": {
        "id": "WVppPC9bK46C"
      },
      "source": [
        "#**SET UP**"
      ]
    },
    {
      "cell_type": "code",
      "execution_count": null,
      "metadata": {
        "id": "V4kDS5VCIW7h"
      },
      "outputs": [],
      "source": [
        "!pip install -q pyspark==3.3.0 spark-nlp==4.2.4"
      ]
    },
    {
      "cell_type": "code",
      "execution_count": null,
      "metadata": {
        "colab": {
          "base_uri": "https://localhost:8080/",
          "height": 254
        },
        "id": "W4dSyu19J4qV",
        "outputId": "0ca0bb21-5af2-41ca-89a2-6de5bf0a0e84"
      },
      "outputs": [
        {
          "name": "stdout",
          "output_type": "stream",
          "text": [
            "Spark NLP version 4.2.4\n",
            "Apache Spark version: 3.3.0\n"
          ]
        },
        {
          "data": {
            "text/html": [
              "\n",
              "            <div>\n",
              "                <p><b>SparkSession - in-memory</b></p>\n",
              "                \n",
              "        <div>\n",
              "            <p><b>SparkContext</b></p>\n",
              "\n",
              "            <p><a href=\"http://be9299ae5dac:4040\">Spark UI</a></p>\n",
              "\n",
              "            <dl>\n",
              "              <dt>Version</dt>\n",
              "                <dd><code>v3.3.0</code></dd>\n",
              "              <dt>Master</dt>\n",
              "                <dd><code>local[*]</code></dd>\n",
              "              <dt>AppName</dt>\n",
              "                <dd><code>Spark NLP</code></dd>\n",
              "            </dl>\n",
              "        </div>\n",
              "        \n",
              "            </div>\n",
              "        "
            ],
            "text/plain": [
              "<pyspark.sql.session.SparkSession at 0x7f12adbc7df0>"
            ]
          },
          "execution_count": 63,
          "metadata": {},
          "output_type": "execute_result"
        }
      ],
      "source": [
        "import sparknlp\n",
        "\n",
        "spark = sparknlp.start()\n",
        "# params =>> gpu=False\n",
        "\n",
        "print(\"Spark NLP version\", sparknlp.version())\n",
        "print(\"Apache Spark version:\", spark.version)\n",
        "\n",
        "spark"
      ]
    },
    {
      "cell_type": "code",
      "execution_count": null,
      "metadata": {
        "colab": {
          "base_uri": "https://localhost:8080/"
        },
        "id": "XPMIocNwKHWm",
        "outputId": "72ec0943-905b-4d58-9716-b3e514d4085e"
      },
      "outputs": [
        {
          "name": "stdout",
          "output_type": "stream",
          "text": [
            "total 43992\n",
            "-rw-r--r-- 1 root root 45044627 Nov 28 16:37 spark-nlp_2.12-4.2.4.jar\n"
          ]
        }
      ],
      "source": [
        "! cd ~/.ivy2/cache/com.johnsnowlabs.nlp/spark-nlp_2.12/jars && ls -lt"
      ]
    },
    {
      "cell_type": "code",
      "execution_count": null,
      "metadata": {
        "id": "hKD8YwrEK64B"
      },
      "outputs": [],
      "source": [
        "from pyspark.sql import SparkSession\n",
        "\n",
        "# create a new Spark session\n",
        "spark = SparkSession.builder.appName(\"Segmentation Classifier\").getOrCreate()"
      ]
    },
    {
      "cell_type": "markdown",
      "metadata": {
        "id": "d1bfKNMHLbTD"
      },
      "source": [
        "#**IMPORT LIBRARIES**"
      ]
    },
    {
      "cell_type": "code",
      "execution_count": null,
      "metadata": {
        "id": "5O5OrTMJW_gS"
      },
      "outputs": [],
      "source": [
        "from pyspark.sql.functions import col\n",
        "from pyspark.sql.types import *\n",
        "from pyspark.ml import Pipeline\n",
        "from pyspark.ml.feature import RegexTokenizer, StopWordsRemover, CountVectorizer, IDF, StringIndexer\n",
        "from pyspark.ml.classification import LogisticRegression, DecisionTreeClassifier, RandomForestClassifier\n",
        "from pyspark.ml.evaluation import MulticlassClassificationEvaluator\n",
        "from sparknlp.annotator import *\n",
        "from sparknlp.common import *\n",
        "from sparknlp.base import *\n",
        "from sparknlp.training import CoNLL\n",
        "import matplotlib.pyplot as plt\n",
        "import numpy as np"
      ]
    },
    {
      "cell_type": "markdown",
      "metadata": {
        "id": "m9qV9kp0LebS"
      },
      "source": [
        "#**READ DATA**"
      ]
    },
    {
      "cell_type": "code",
      "execution_count": null,
      "metadata": {
        "id": "Dv0jPFexXKOr"
      },
      "outputs": [],
      "source": [
        "# Đọc dữ liệu train, validation và test từ file CSV\n",
        "train_df = spark.read.csv('train.csv', header=True, inferSchema=True)\n",
        "validation_df = spark.read.csv('validation.csv', header=True, inferSchema=True)\n",
        "test_df = spark.read.csv('test.csv', header=True, inferSchema=True)"
      ]
    },
    {
      "cell_type": "markdown",
      "metadata": {
        "id": "98sKcO2wLkgW"
      },
      "source": [
        "#**DATA PREPROCESSING**"
      ]
    },
    {
      "cell_type": "code",
      "execution_count": null,
      "metadata": {
        "id": "_adhnnvFhtNV"
      },
      "outputs": [],
      "source": [
        "# Chuyển đổi cột sentiment thành kiểu số nguyên (int)\n",
        "train_df = train_df.withColumn(\"sentiment\", col(\"sentiment\").cast(\"int\"))\n",
        "validation_df = validation_df.withColumn(\"sentiment\", col(\"sentiment\").cast(\"int\"))\n",
        "test_df = test_df.withColumn(\"sentiment\", col(\"sentiment\").cast(\"int\"))"
      ]
    },
    {
      "cell_type": "code",
      "execution_count": null,
      "metadata": {
        "colab": {
          "base_uri": "https://localhost:8080/"
        },
        "id": "q7iF6UbGiaC8",
        "outputId": "1447ce70-19e5-46a8-a187-bb004262c728"
      },
      "outputs": [
        {
          "data": {
            "text/plain": [
              "DataFrame[sentence: string, sentiment: int, topic: string]"
            ]
          },
          "execution_count": 69,
          "metadata": {},
          "output_type": "execute_result"
        }
      ],
      "source": [
        "train_df"
      ]
    },
    {
      "cell_type": "code",
      "execution_count": null,
      "metadata": {
        "colab": {
          "base_uri": "https://localhost:8080/"
        },
        "id": "z_7OP3qxiT-2",
        "outputId": "cfcea097-561f-4465-ef01-4350aca52fc4"
      },
      "outputs": [
        {
          "name": "stdout",
          "output_type": "stream",
          "text": [
            "root\n",
            " |-- sentence: string (nullable = true)\n",
            " |-- sentiment: integer (nullable = true)\n",
            " |-- topic: string (nullable = true)\n",
            "\n"
          ]
        }
      ],
      "source": [
        "train_df.printSchema()"
      ]
    },
    {
      "cell_type": "code",
      "execution_count": null,
      "metadata": {
        "colab": {
          "base_uri": "https://localhost:8080/"
        },
        "id": "OUrWvWf4MzfQ",
        "outputId": "355f9cb8-e345-40d3-c9f2-d9a263a6fba4"
      },
      "outputs": [
        {
          "name": "stdout",
          "output_type": "stream",
          "text": [
            "<class 'pandas.core.frame.DataFrame'>\n",
            "RangeIndex: 11426 entries, 0 to 11425\n",
            "Data columns (total 3 columns):\n",
            " #   Column     Non-Null Count  Dtype  \n",
            "---  ------     --------------  -----  \n",
            " 0   sentence   11426 non-null  object \n",
            " 1   sentiment  11403 non-null  float64\n",
            " 2   topic      11426 non-null  object \n",
            "dtypes: float64(1), object(2)\n",
            "memory usage: 267.9+ KB\n",
            "<class 'pandas.core.frame.DataFrame'>\n",
            "RangeIndex: 3166 entries, 0 to 3165\n",
            "Data columns (total 3 columns):\n",
            " #   Column     Non-Null Count  Dtype  \n",
            "---  ------     --------------  -----  \n",
            " 0   sentence   3166 non-null   object \n",
            " 1   sentiment  3160 non-null   float64\n",
            " 2   topic      3166 non-null   object \n",
            "dtypes: float64(1), object(2)\n",
            "memory usage: 74.3+ KB\n",
            "<class 'pandas.core.frame.DataFrame'>\n",
            "RangeIndex: 1583 entries, 0 to 1582\n",
            "Data columns (total 3 columns):\n",
            " #   Column     Non-Null Count  Dtype  \n",
            "---  ------     --------------  -----  \n",
            " 0   sentence   1583 non-null   object \n",
            " 1   sentiment  1579 non-null   float64\n",
            " 2   topic      1583 non-null   int32  \n",
            "dtypes: float64(1), int32(1), object(1)\n",
            "memory usage: 31.0+ KB\n"
          ]
        }
      ],
      "source": [
        "train_df.toPandas().info(verbose=True)\n",
        "validation_df.toPandas().info(verbose=True)\n",
        "test_df.toPandas().info(verbose=True)"
      ]
    },
    {
      "cell_type": "code",
      "execution_count": null,
      "metadata": {
        "id": "SJub7CiRNg14"
      },
      "outputs": [],
      "source": [
        "train_df = train_df.na.drop()\n",
        "validation_df = validation_df.na.drop()\n",
        "test_df = test_df.na.drop()"
      ]
    },
    {
      "cell_type": "code",
      "execution_count": null,
      "metadata": {
        "id": "ZLwQESaQjNs_"
      },
      "outputs": [],
      "source": [
        "# Chỉ lấy hai cột 'sentence' và 'sentiment'\n",
        "train_df = train_df.select(col(\"sentence\"), col(\"sentiment\"))\n",
        "validation_df = validation_df.select(col(\"sentence\"), col(\"sentiment\"))\n",
        "test_df = test_df.select(col(\"sentence\"), col(\"sentiment\"))"
      ]
    },
    {
      "cell_type": "code",
      "execution_count": null,
      "metadata": {
        "colab": {
          "base_uri": "https://localhost:8080/"
        },
        "id": "H6Xpv_mojq4r",
        "outputId": "ba5397c3-dccc-4edf-a2cc-b9e2009d5932"
      },
      "outputs": [
        {
          "name": "stdout",
          "output_type": "stream",
          "text": [
            "+--------------------+---------+\n",
            "|            sentence|sentiment|\n",
            "+--------------------+---------+\n",
            "|slide giáo trình ...|        2|\n",
            "|nhiệt tình giảng ...|        2|\n",
            "|đi học đầy đủ ful...|        0|\n",
            "|chưa áp dụng công...|        0|\n",
            "|thầy giảng bài ha...|        2|\n",
            "|giảng viên đảm bả...|        2|\n",
            "|em sẽ nợ môn này ...|        1|\n",
            "|thời lượng học qu...|        0|\n",
            "|nội dung môn học ...|        0|\n",
            "|cần nói rõ hơn bằ...|        0|\n",
            "|thầy rất tận tình...|        2|\n",
            "|      dễ bị áp lực .|        0|\n",
            "|đang dạy thầy wzj...|        1|\n",
            "|môn học còn dễ cầ...|        0|\n",
            "|có thể cho sinh v...|        0|\n",
            "|hài lòng về tất cả .|        2|\n",
            "|nhiệt tình , vui ...|        2|\n",
            "|thấy nhiệt tình t...|        2|\n",
            "|phong cách giảng ...|        2|\n",
            "|giảng dạy kết hợp...|        2|\n",
            "+--------------------+---------+\n",
            "only showing top 20 rows\n",
            "\n"
          ]
        }
      ],
      "source": [
        "train_df.show()"
      ]
    },
    {
      "cell_type": "code",
      "execution_count": null,
      "metadata": {
        "colab": {
          "base_uri": "https://localhost:8080/"
        },
        "id": "iQyyZakWjPWa",
        "outputId": "41fcd53b-d7dd-4ec8-ff48-bfd9f0f677c0"
      },
      "outputs": [
        {
          "name": "stdout",
          "output_type": "stream",
          "text": [
            "root\n",
            " |-- sentence: string (nullable = true)\n",
            " |-- sentiment: integer (nullable = true)\n",
            "\n"
          ]
        }
      ],
      "source": [
        "train_df.printSchema()"
      ]
    },
    {
      "cell_type": "code",
      "execution_count": null,
      "metadata": {
        "colab": {
          "base_uri": "https://localhost:8080/"
        },
        "id": "-uZhaAKghv7i",
        "outputId": "e7b2507b-fdc7-4560-bd29-9c639f394f2e"
      },
      "outputs": [
        {
          "name": "stdout",
          "output_type": "stream",
          "text": [
            "lemma_antbnc download started this may take some time.\n",
            "Approximate size to download 907.6 KB\n",
            "[OK!]\n"
          ]
        }
      ],
      "source": [
        "# Khởi tạo các annotator của Spark NLP\n",
        "document_assembler = DocumentAssembler().setInputCol(\"sentence\") \\\n",
        "                                        .setOutputCol(\"document\")\n",
        "\n",
        "tokenizer = Tokenizer().setInputCols([\"document\"]) \\\n",
        "                       .setOutputCol(\"token\")\n",
        "\n",
        "normalizer = Normalizer().setInputCols([\"token\"]) \\\n",
        "                         .setOutputCol(\"normalized\")\n",
        "\n",
        "lemmatizer = LemmatizerModel.pretrained() \\\n",
        "                            .setInputCols([\"normalized\"]) \\\n",
        "                            .setOutputCol(\"lemma\")\n",
        "\n",
        "stopwords_cleaner = StopWordsCleaner().setInputCols([\"lemma\"]) \\\n",
        "                                      .setOutputCol(\"cleanTokens\") \\\n",
        "                                      .setCaseSensitive(False)\n",
        "\n",
        "finisher = Finisher().setInputCols([\"cleanTokens\"]) \\\n",
        "                     .setOutputCols([\"token_features\"]) \\\n",
        "                     .setOutputAsArray(True)"
      ]
    },
    {
      "cell_type": "code",
      "execution_count": null,
      "metadata": {
        "id": "t41FxmCkhybj"
      },
      "outputs": [],
      "source": [
        "# Khởi tạo Pipeline cho quá trình tiền xử lý dữ liệu\n",
        "preprocessing_pipeline = Pipeline(\n",
        "  stages = [\n",
        "    document_assembler,\n",
        "    tokenizer,\n",
        "    normalizer,\n",
        "    lemmatizer,\n",
        "    stopwords_cleaner,\n",
        "    finisher\n",
        "  ])"
      ]
    },
    {
      "cell_type": "code",
      "execution_count": null,
      "metadata": {
        "id": "is4qM0O4XW6v"
      },
      "outputs": [],
      "source": [
        "# Áp dụng Pipeline để tiền xử lý dữ liệu train, validation và test\n",
        "train_df = preprocessing_pipeline.fit(train_df).transform(train_df)\n",
        "validation_df = preprocessing_pipeline.fit(validation_df).transform(validation_df)\n",
        "test_df = preprocessing_pipeline.fit(test_df).transform(test_df)"
      ]
    },
    {
      "cell_type": "code",
      "execution_count": null,
      "metadata": {
        "id": "2ejxeU4gh5YA"
      },
      "outputs": [],
      "source": [
        "# Khởi tạo CountVectorizer và IDF cho quá trình feature engineering\n",
        "count_vectorizer = CountVectorizer(inputCol=\"token_features\", outputCol=\"raw_features\")\n",
        "idf = IDF(inputCol=\"raw_features\", outputCol=\"features\")"
      ]
    },
    {
      "cell_type": "markdown",
      "metadata": {
        "id": "_bPfcj49o95T"
      },
      "source": [
        "# MODEL BUILDING"
      ]
    },
    {
      "cell_type": "code",
      "execution_count": null,
      "metadata": {
        "id": "WEbiLxIiYEjj"
      },
      "outputs": [],
      "source": [
        "class ModelTrainer:\n",
        "  def __init__(self, train_df, validation_df, test_df, count_vectorizer, idf):\n",
        "    self.train_df = train_df\n",
        "    self.validation_df = validation_df\n",
        "    self.test_df = test_df\n",
        "    self.count_vectorizer = count_vectorizer\n",
        "    self.idf = idf\n",
        "\n",
        "  def train(self, pipeline):\n",
        "    model = pipeline.fit(self.train_df)\n",
        "    validation_predictions = model.transform(self.validation_df)\n",
        "    evaluator = MulticlassClassificationEvaluator(predictionCol=\"prediction\", labelCol=\"sentiment\", metricName=\"accuracy\")\n",
        "    accuracy = evaluator.evaluate(validation_predictions)\n",
        "    return model, accuracy\n",
        "\n",
        "  def train_all(self):\n",
        "    models = []\n",
        "    validation_accuracies = []\n",
        "    test_accuracies = []\n",
        "\n",
        "    # Khởi tạo các mô hình\n",
        "    lr = LogisticRegression(featuresCol=\"features\", labelCol=\"sentiment\")\n",
        "    dt = DecisionTreeClassifier(featuresCol=\"features\", labelCol=\"sentiment\")\n",
        "    rf = RandomForestClassifier(featuresCol=\"features\", labelCol=\"sentiment\")\n",
        "\n",
        "    # Tạo pipeline cho quá trình train và predict cho mỗi mô hình\n",
        "    pipelines = [\n",
        "      Pipeline(stages=[self.count_vectorizer, self.idf, lr]),\n",
        "      Pipeline(stages=[self.count_vectorizer, self.idf, dt]),\n",
        "      Pipeline(stages=[self.count_vectorizer, self.idf, rf])\n",
        "    ]\n",
        "\n",
        "    # Train và predict trên từng mô hình và lưu kết quả\n",
        "    for pipeline in pipelines:\n",
        "      model, validation_accuracy = self.train(pipeline)\n",
        "      models.append(model)\n",
        "      validation_accuracies.append(validation_accuracy)\n",
        "      \n",
        "      test_prediction = model.transform(self.test_df)\n",
        "      evaluator = MulticlassClassificationEvaluator(predictionCol=\"prediction\", labelCol=\"sentiment\", metricName=\"accuracy\")\n",
        "      test_accuracy = evaluator.evaluate(test_prediction)\n",
        "      test_accuracies.append(test_accuracy)\n",
        "\n",
        "    # Tổng hợp accuracies\n",
        "    accuracies = validation_accuracies + test_accuracies\n",
        "\n",
        "    # Vẽ biểu đồ trực quan hóa dữ liệu dự đoán\n",
        "    labels = ['LR', 'DT', 'RF'] * 2\n",
        "    colors = ['blue', 'orange', 'green'] * 2\n",
        "    values = accuracies\n",
        "    plt.bar(labels, values, color=colors)\n",
        "    plt.xlabel('Model')\n",
        "    plt.ylabel('Accuracy')\n",
        "    plt.ylim((0, 1))\n",
        "    plt.title('Accuracy of Different Models on Test Data')\n",
        "    plt.show()\n",
        "\n",
        "    return models, accuracies, test_prediction"
      ]
    },
    {
      "cell_type": "code",
      "execution_count": null,
      "metadata": {
        "id": "ce4cXUJniCvm"
      },
      "outputs": [],
      "source": [
        "# Khởi tạo đối tượng ModelTrainer:\n",
        "trainer = ModelTrainer(train_df, validation_df, test_df, count_vectorizer, idf)"
      ]
    },
    {
      "cell_type": "code",
      "execution_count": null,
      "metadata": {
        "colab": {
          "base_uri": "https://localhost:8080/",
          "height": 472
        },
        "id": "9nsHvkrSZuP3",
        "outputId": "ccd39806-9cdf-495f-be38-1f792c158c1b"
      },
      "outputs": [
        {
          "data": {
            "image/png": "[encoded data removed]",
            "text/plain": [
              "<Figure size 640x480 with 1 Axes>"
            ]
          },
          "metadata": {},
          "output_type": "display_data"
        }
      ],
      "source": [
        "# Train và đánh giá các mô hình:\n",
        "models, accuracies, test_predictions = trainer.train_all()"
      ]
    }
  ],
  "metadata": {
    "colab": {
      "provenance": [],
      "toc_visible": true
    },
    "kernelspec": {
      "display_name": "Python 3",
      "name": "python3"
    },
    "language_info": {
      "name": "python"
    }
  },
  "nbformat": 4,
  "nbformat_minor": 0
}
